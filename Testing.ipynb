{
 "cells": [
  {
   "cell_type": "code",
   "execution_count": 12,
   "outputs": [
    {
     "name": "stdout",
     "output_type": "stream",
     "text": [
      "Checking input parameters are in the correct format...\n",
      "Formatting Dates...\n",
      "Checking if ticker supplied is available on the CoinBase Pro API...\n",
      "Connected to the CoinBase Pro API...\n",
      "Ticker 'BTC-USD' found at the CoinBase Pro API, continuing to extraction...\n",
      "Data for chunk 0 of 5 extracted\n",
      "Data for chunk 1 of 5 extracted\n",
      "Data for chunk 2 of 5 extracted\n",
      "Data for chunk 3 of 5 extracted\n",
      "Data for chunk 4 of 5 extracted\n",
      "Data for chunk 5 of 5 extracted\n",
      "TEST\n",
      "Epoch: 0, loss: 0.94460\n",
      "Epoch: 100, loss: 0.00122\n",
      "Epoch: 200, loss: 0.00050\n",
      "Epoch: 300, loss: 0.00033\n",
      "Epoch: 400, loss: 0.00027\n",
      "Epoch: 500, loss: 0.00022\n",
      "Epoch: 600, loss: 0.00017\n",
      "Epoch: 700, loss: 0.00014\n",
      "Epoch: 800, loss: 0.00013\n",
      "Epoch: 900, loss: 0.00012\n",
      "Epoch: 1000, loss: 0.00012\n",
      "Epoch: 1100, loss: 0.00011\n",
      "Epoch: 1200, loss: 0.00011\n",
      "Epoch: 1300, loss: 0.00010\n",
      "Epoch: 1400, loss: 0.00010\n",
      "Epoch: 1500, loss: 0.00010\n",
      "Epoch: 1600, loss: 0.00009\n",
      "Epoch: 1700, loss: 0.00009\n",
      "Epoch: 1800, loss: 0.00009\n",
      "Epoch: 1900, loss: 0.00008\n",
      "done\n",
      "Random: 0.5542857142857143\n",
      "Accuracy: 0.7885714285714286\n",
      "[[60 18]\n",
      " [19 78]]\n"
     ]
    },
    {
     "data": {
      "text/plain": "<Figure size 432x288 with 1 Axes>",
      "image/png": "[encoded data removed]"
     },
     "metadata": {
      "needs_background": "light"
     },
     "output_type": "display_data"
    }
   ],
   "source": [
    "import numpy as np\n",
    "import pandas as pd\n",
    "import matplotlib.pyplot as plt\n",
    "import torch\n",
    "import torch.nn as nn\n",
    "from sklearn.preprocessing import MinMaxScaler\n",
    "import DataRetrieval as DR\n",
    "import pickle\n",
    "import talib as ta\n",
    "import sklearn.metrics as skm\n",
    "\n",
    "\n",
    "class LSTM(nn.Module):\n",
    "\n",
    "    def __init__(self, num_classes, input_size, hidden_size, num_layers, seq_length):\n",
    "        super(LSTM, self).__init__()\n",
    "\n",
    "        self.num_classes = num_classes\n",
    "        self.num_layers = num_layers\n",
    "        self.input_size = input_size\n",
    "        self.hidden_size = hidden_size\n",
    "        self.seq_length = seq_length\n",
    "\n",
    "        self.lstm = nn.LSTM(input_size=input_size, hidden_size=hidden_size,\n",
    "                            num_layers=num_layers, batch_first=True).float()\n",
    "\n",
    "        self.fc = nn.Linear(hidden_size, num_classes)\n",
    "\n",
    "    def forward(self, x):\n",
    "        h_0 = torch.zeros(self.num_layers, x.size(0), self.hidden_size)\n",
    "        c_0 = torch.zeros(self.num_layers, x.size(0), self.hidden_size)\n",
    "        ula, (h_out, _) = self.lstm(x, (h_0, c_0))\n",
    "        h_out = h_out.view(-1, self.hidden_size) #reshape output from 1,train_len,hidden to train_len,hidden\n",
    "        out = self.fc(h_out)\n",
    "        return out\n",
    "\n",
    "def prepare_data(data, labels, seq_length):\n",
    "    x = []\n",
    "    y = []\n",
    "    for i in range(data.shape[0]-seq_length-1):\n",
    "        _x = data[i: (i+seq_length)]\n",
    "        _y = labels[i+seq_length]\n",
    "        x.append(_x)\n",
    "        y.append(_y)\n",
    "    return x, y\n",
    "\n",
    "def calculate_classification(test_x,test_y,lstm,labl_scaler):\n",
    "    # Getting predictions for the test set.\n",
    "    pred_y = lstm(test_x)\n",
    "\n",
    "    # Transforming the labels back to original space\n",
    "    orig_y = labl_scaler.inverse_transform(test_y.numpy()).tolist()\n",
    "    pred_y = labl_scaler.inverse_transform(pred_y.detach().numpy()).tolist()\n",
    "\n",
    "    # Transforming labels to be returns instead of price\n",
    "    rtrn_y = [orig_y[i][0] - orig_y[i - 1][0] for i in range(1, len(orig_y))]\n",
    "    rtrn_pred = [pred_y[i][0] - pred_y[i - 1][0] for i in range(1, len(pred_y))]\n",
    "\n",
    "    # Getting Binary Classification\n",
    "    bin_y = [1 if i > 0 else 0 for i in rtrn_y]\n",
    "    bin_pred = [1 if i > 0 else 0 for i in rtrn_pred]\n",
    "    return bin_y, bin_pred\n",
    "\n",
    "# Don't 100% trust this yet. Need to clean up.\n",
    "def print_acc(bin_y,bin_pred):\n",
    "    # Getting accuracy\n",
    "    acc = skm.accuracy_score(bin_y,bin_pred)\n",
    "\n",
    "    # Accuracy if you randomly guessed\n",
    "    rndm_acc = sum(bin_y) / len(bin_y)\n",
    "    rndm_acc = max(1 - rndm_acc, rndm_acc)\n",
    "\n",
    "    print(\"Random: \" + str(rndm_acc))\n",
    "    print(\"Accuracy: \" + str(acc))\n",
    "\n",
    "\n",
    "data_scaler = MinMaxScaler()\n",
    "labl_scaler = MinMaxScaler()\n",
    "\n",
    "## Update dataframe keys to lowercase for crypto\n",
    "data_source = DR.get_crypto_data('BTC-USD',interval='1h',start_date='2021-04-01-00-00',end_date='2021-06-05-00-00')\n",
    "# data_source = DR.get_stock_data('DIA',interval='1d',period='2y')\n",
    "\n",
    "\n",
    "# Adding TAs\n",
    "rsi = ta.RSI(data_source['Close'])\n",
    "data_source['RSI'] = rsi\n",
    "\n",
    "#Adding SMA\n",
    "sma = ta.SMA(data_source['Close'])\n",
    "data_source['SMA'] = sma\n",
    "\n",
    "#Adding EMA\n",
    "ema = ta.EMA(data_source['Close'])\n",
    "data_source['EMA'] = ema\n",
    "\n",
    "# Date High Low Open Close Volume AdjClose\n",
    "scaled_data = data_scaler.fit_transform(data_source[['High','Low','Close','Volume','EMA']])[29:]\n",
    "scaled_lbls = labl_scaler.fit_transform(data_source[['SMA']])[29:]\n",
    "#normed = data_source[data_source.columns[1:]].apply(lambda x: x/x.max())\n",
    "\n",
    "\n",
    "\n",
    "seq_length = 10\n",
    "x, y = prepare_data(scaled_data, scaled_lbls, seq_length)\n",
    "dataX = torch.Tensor(np.array(x))\n",
    "dataY = torch.Tensor(np.array(y))\n",
    "train_size = int(len(y) * 0.9)\n",
    "train_x = torch.Tensor(x[0:train_size])\n",
    "train_y = torch.Tensor(y[0:train_size])\n",
    "test_x = torch.Tensor(x[train_size:])\n",
    "test_y = torch.Tensor(y[train_size:])\n",
    "\n",
    "input_size = 5\n",
    "hidden_size = 6\n",
    "num_layers = 1\n",
    "num_classes = 1\n",
    "epochs = 2000\n",
    "learning_rate = 0.01\n",
    "\n",
    "lstm = LSTM(num_classes, input_size, hidden_size, num_layers, seq_length)\n",
    "criterion = torch.nn.MSELoss()\n",
    "optimizer = torch.optim.Adam(lstm.parameters(), lr=learning_rate)\n",
    "\n",
    "\"\"\"TRAIN\"\"\"\n",
    "lstm.train()\n",
    "for epoch in range(epochs):\n",
    "    outputs = lstm(train_x)\n",
    "    optimizer.zero_grad()\n",
    "    loss = criterion(outputs, train_y)\n",
    "    loss.backward()\n",
    "    optimizer.step()\n",
    "    if epoch % 100 == 0:\n",
    "      print(\"Epoch: %d, loss: %1.5f\" % (epoch, loss.item()))\n",
    "\n",
    "\"\"\"TEST\"\"\"\n",
    "lstm.eval()\n",
    "train_predict = lstm(dataX)\n",
    "data_predict = train_predict.data.numpy()\n",
    "dataY_plot = dataY.data.numpy()\n",
    "\n",
    "data_predict = labl_scaler.inverse_transform(data_predict)\n",
    "dataY_plot = labl_scaler.inverse_transform(dataY_plot.reshape(dataY_plot.shape[0],1))\n",
    "\n",
    "plt.axvline(x=train_size, c='r', linestyle='--')\n",
    "plt.plot(dataY_plot)\n",
    "plt.plot(data_predict)\n",
    "plt.suptitle('Time-Series Prediction')\n",
    "plt.show()\n",
    "\n",
    "\n",
    "print('done')\n",
    "\n",
    "# Getting binary classification\n",
    "bin_y, bin_pred = calculate_classification(test_x,test_y,lstm,labl_scaler)\n",
    "\n",
    "# Printing Classification\n",
    "print_acc(bin_y,bin_pred)\n",
    "\n",
    "# Printing Confusion Matrix\n",
    "cfn_mtrx = skm.confusion_matrix(bin_y,bin_pred)\n",
    "print(cfn_mtrx)\n"
   ],
   "metadata": {
    "collapsed": false,
    "pycharm": {
     "name": "#%%\n"
    }
   }
  },
  {
   "cell_type": "code",
   "execution_count": null,
   "outputs": [],
   "source": [
    "# Getting predictions for the test set."
   ],
   "metadata": {
    "collapsed": false,
    "pycharm": {
     "name": "#%%\n"
    }
   }
  },
  {
   "cell_type": "code",
   "execution_count": 16,
   "outputs": [
    {
     "data": {
      "text/plain": "array([[60, 18],\n       [19, 78]])"
     },
     "execution_count": 16,
     "metadata": {},
     "output_type": "execute_result"
    }
   ],
   "source": [
    "# Getting predictions for the test set.\n",
    "pred_y = lstm(test_x)\n",
    "\n",
    "# Transforming the labels back to original space\n",
    "orig_y = labl_scaler.inverse_transform(test_y.numpy()).tolist()\n",
    "pred_y = labl_scaler.inverse_transform(pred_y.detach().numpy()).tolist()\n",
    "\n",
    "# Transforming labels to be returns instead of price\n",
    "rtrn_y = [orig_y[i][0] - orig_y[i - 1][0] for i in range(1, len(orig_y))]\n",
    "rtrn_pred = [pred_y[i][0] - pred_y[i - 1][0] for i in range(1, len(pred_y))]\n",
    "\n",
    "# Getting Binary Classification\n",
    "bin_y = [1 if i > 0 else 0 for i in rtrn_y]\n",
    "bin_pred = [1 if i > 0 else 0 for i in rtrn_pred]\n",
    "\n",
    "\n"
   ],
   "metadata": {
    "collapsed": false,
    "pycharm": {
     "name": "#%%\n"
    }
   }
  },
  {
   "cell_type": "code",
   "execution_count": 21,
   "outputs": [
    {
     "data": {
      "text/plain": "array([-1.30468750e+00, -3.16406250e+00, -5.85937500e-02, -1.33046875e+01,\n       -1.62617188e+01, -1.64843750e+01, -1.96796875e+01, -1.76367188e+01,\n       -1.56367188e+01, -2.58164062e+01, -2.48125000e+01, -2.15351562e+01,\n       -2.29843750e+01, -2.93828125e+01, -2.96953125e+01, -2.97656250e+01,\n       -2.84531250e+01, -2.75351562e+01, -2.53710938e+01, -2.54414062e+01,\n       -3.01640625e+01, -3.48437500e+01, -3.65976562e+01, -3.44648438e+01,\n       -3.35898438e+01, -3.07460938e+01, -2.71289062e+01, -1.92617188e+01,\n       -2.03007812e+01, -1.86367188e+01, -1.85625000e+01, -2.05664062e+01,\n       -2.47968750e+01, -1.25703125e+01, -9.96093750e+00, -9.48828125e+00,\n       -3.35937500e-01,  4.39843750e+00,  3.07812500e+00,  1.07265625e+01,\n        9.38671875e+00,  1.31054688e+01,  1.66640625e+01,  1.83085938e+01,\n        1.70898438e+01,  1.41796875e+01,  2.82968750e+01,  2.95976562e+01,\n        2.75468750e+01,  2.39140625e+01,  3.12695312e+01,  3.71562500e+01,\n        3.95585938e+01,  3.93046875e+01,  4.16523438e+01,  3.34882812e+01,\n        3.19179688e+01,  2.78125000e+01,  2.79062500e+01,  2.67382812e+01,\n        2.73984375e+01,  3.07929688e+01,  3.55273438e+01,  2.82148438e+01,\n        3.62851562e+01,  3.88046875e+01,  3.44492188e+01,  2.83984375e+01,\n        2.95039062e+01,  2.35625000e+01,  2.31093750e+01,  1.85976562e+01,\n        1.18867188e+01,  1.49609375e+01,  1.26289062e+01,  1.42265625e+01,\n        2.67968750e+00,  2.57421875e+00,  9.49218750e-01,  4.20312500e+00,\n        5.85937500e-02, -4.37500000e-01,  8.55468750e-01, -5.19531250e-01,\n       -3.12500000e+00, -3.58203125e+00,  2.04296875e+00, -6.56250000e-01,\n        5.97656250e-01,  5.46875000e+00,  4.51562500e+00,  4.48046875e+00,\n        3.81640625e+00,  6.67578125e+00, -4.84375000e+00, -9.48437500e+00,\n       -7.37109375e+00, -4.92968750e+00, -5.01171875e+00,  9.88281250e-01,\n        2.73437500e-02,  4.11718750e+00,  6.71875000e+00,  2.18750000e+00,\n       -3.56640625e+00, -7.58984375e+00, -8.89062500e+00, -1.27812500e+01,\n       -1.21054688e+01, -8.76953125e+00, -8.06250000e+00, -9.35937500e+00,\n       -1.22226562e+01, -1.09414062e+01, -1.10820312e+01, -3.64453125e+00,\n       -9.16796875e+00, -1.08789062e+01, -1.32148438e+01, -1.56523438e+01,\n       -1.32304688e+01, -1.11875000e+01, -1.36992188e+01, -9.91406250e+00,\n       -8.03125000e+00, -7.61718750e+00, -1.09062500e+01, -1.14960938e+01,\n       -1.16445312e+01, -1.34960938e+01, -1.62773438e+01, -1.72226562e+01,\n       -1.88398438e+01, -1.34570312e+01, -7.75390625e+00,  7.14843750e-01,\n        2.00000000e+00,  5.91406250e+00,  5.87109375e+00,  4.48828125e+00,\n        4.80468750e+00,  4.75000000e+00,  6.34375000e+00,  1.07929688e+01,\n        1.35351562e+01,  1.14218750e+01,  1.32539062e+01,  2.86289062e+01,\n        2.78671875e+01,  2.66523438e+01,  2.61757812e+01,  2.56171875e+01,\n        2.75429688e+01,  2.38125000e+01,  2.53398438e+01,  2.85898438e+01,\n        3.09414062e+01,  3.08906250e+01,  3.00820312e+01,  2.84375000e+01,\n        3.36562500e+01,  3.31171875e+01,  3.34453125e+01,  3.37304688e+01,\n        4.21054688e+01,  3.94882812e+01,  3.86210938e+01,  3.34570312e+01,\n        3.45703125e+01,  3.07851562e+01,  3.05117188e+01,  3.25117188e+01,\n        3.39218750e+01,  2.52617188e+01,  2.57226562e+01])"
     },
     "execution_count": 21,
     "metadata": {},
     "output_type": "execute_result"
    }
   ],
   "source": [],
   "metadata": {
    "collapsed": false,
    "pycharm": {
     "name": "#%%\n"
    }
   }
  }
 ],
 "metadata": {
  "kernelspec": {
   "display_name": "Python 3",
   "language": "python",
   "name": "python3"
  },
  "language_info": {
   "codemirror_mode": {
    "name": "ipython",
    "version": 2
   },
   "file_extension": ".py",
   "mimetype": "text/x-python",
   "name": "python",
   "nbconvert_exporter": "python",
   "pygments_lexer": "ipython2",
   "version": "2.7.6"
  }
 },
 "nbformat": 4,
 "nbformat_minor": 0
}